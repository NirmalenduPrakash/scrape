{
 "cells": [
  {
   "cell_type": "code",
   "execution_count": 167,
   "metadata": {},
   "outputs": [],
   "source": [
    "from selenium import webdriver"
   ]
  },
  {
   "cell_type": "code",
   "execution_count": 168,
   "metadata": {},
   "outputs": [],
   "source": [
    "path = r'/Users/nirmalenduprakash/Downloads/chromedriver'\n",
    "driver = webdriver.Chrome(executable_path = path)"
   ]
  },
  {
   "cell_type": "code",
   "execution_count": 9,
   "metadata": {},
   "outputs": [],
   "source": [
    "driver.get('https://www.nykaa.com/neutrogena-deep-clean-blackhead-eliminating-daily-scrub/p/10201?ptype=product&productId=10201&skuId=10201&pps=15')"
   ]
  },
  {
   "cell_type": "code",
   "execution_count": 16,
   "metadata": {},
   "outputs": [],
   "source": [
    "driver.execute_script(\"window.scrollTo(0, 2500)\") "
   ]
  },
  {
   "cell_type": "code",
   "execution_count": 116,
   "metadata": {},
   "outputs": [],
   "source": [
    "elements = driver.find_elements_by_xpath('//div[@class=\"reviewer-info\"]//span[span[@class=\"glyphicon glyphicon-star\"]]')"
   ]
  },
  {
   "cell_type": "code",
   "execution_count": 118,
   "metadata": {},
   "outputs": [],
   "source": [
    "count=0\n",
    "for element in elements:\n",
    "    style=element.get_attribute('style')\n",
    "    count+=int(style.split('%')[0].split(':')[-1].strip())/100"
   ]
  },
  {
   "cell_type": "code",
   "execution_count": 119,
   "metadata": {},
   "outputs": [
    {
     "data": {
      "text/plain": [
       "25.0"
      ]
     },
     "execution_count": 119,
     "metadata": {},
     "output_type": "execute_result"
    }
   ],
   "source": [
    "count"
   ]
  },
  {
   "cell_type": "code",
   "execution_count": 155,
   "metadata": {},
   "outputs": [],
   "source": [
    "elms=driver.find_elements_by_xpath('//div[@class=\"review-box clearfix\"]')"
   ]
  },
  {
   "cell_type": "code",
   "execution_count": 156,
   "metadata": {},
   "outputs": [],
   "source": [
    "for elm in elms:\n",
    "    nodes=elm.find_elements_by_xpath('.//div[@class=\"reviewer-info\"]//span[span[@class=\"glyphicon glyphicon-star\"]]')    \n",
    "    count=0\n",
    "    for node in nodes:\n",
    "        style=node.get_attribute('style')\n",
    "        count+=int(style.split('%')[0].split(':')[-1].strip())/100\n",
    "    print(count)"
   ]
  },
  {
   "cell_type": "code",
   "execution_count": 169,
   "metadata": {},
   "outputs": [
    {
     "name": "stdout",
     "output_type": "stream",
     "text": [
      "5.0\n",
      "5.0\n",
      "5.0\n",
      "5.0\n",
      "5.0\n",
      "2.0\n",
      "4.0\n",
      "5.0\n",
      "3.0\n",
      "5.0\n",
      "5.0\n",
      "4.0\n",
      "5.0\n",
      "3.0\n",
      "3.0\n",
      "4.0\n",
      "5.0\n",
      "5.0\n",
      "5.0\n",
      "4.0\n",
      "5.0\n",
      "4.0\n",
      "5.0\n",
      "4.0\n",
      "4.0\n",
      "5.0\n",
      "5.0\n",
      "5.0\n",
      "5.0\n",
      "5.0\n",
      "1.0\n",
      "1.0\n",
      "5.0\n",
      "5.0\n",
      "4.0\n",
      "3.0\n",
      "5.0\n",
      "3.0\n",
      "5.0\n",
      "3.0\n",
      "1.0\n",
      "5.0\n",
      "4.0\n",
      "4.0\n",
      "1.0\n",
      "5.0\n",
      "5.0\n",
      "3.0\n",
      "5.0\n",
      "5.0\n",
      "5.0\n",
      "5.0\n",
      "5.0\n",
      "5.0\n",
      "4.0\n",
      "5.0\n",
      "5.0\n",
      "5.0\n",
      "3.0\n",
      "5.0\n",
      "5.0\n",
      "2.0\n",
      "5.0\n",
      "5.0\n",
      "1.0\n",
      "3.0\n",
      "5.0\n",
      "4.0\n",
      "1.0\n",
      "1.0\n",
      "5.0\n",
      "2.0\n",
      "5.0\n"
     ]
    }
   ],
   "source": [
    "urls=open('nyka_urls.txt','r').readlines()\n",
    "for url in urls:\n",
    "    driver.get(url)\n",
    "    driver.execute_script(\"window.scrollTo(0, 2500)\") \n",
    "    elms=driver.find_elements_by_xpath('//div[@class=\"review-box clearfix\"]')\n",
    "    for elm in elms:\n",
    "        nodes=elm.find_elements_by_xpath('.//div[@class=\"reviewer-info\"]//span[span[@class=\"glyphicon glyphicon-star\"]]')    \n",
    "        count=0\n",
    "        for node in nodes:\n",
    "            style=node.get_attribute('style')\n",
    "            count+=int(style.split('%')[0].split(':')[-1].strip())/100\n",
    "        print(count)\n",
    "    newLink=driver.find_element_by_xpath('//a[@class=\"all-review-btn\"]').get_attribute('href')\n",
    "    driver.get(newLink)\n",
    "    driver.implicitly_wait(5) \n",
    "    elms=driver.find_elements_by_xpath('//div[@class=\"review-box\"]')\n",
    "    for elm in elms:\n",
    "        nodes=elm.find_elements_by_xpath('.//div[@class=\"reviewer-info\"]//span[span[@class=\"glyphicon glyphicon-star\"]]')    \n",
    "        count=0\n",
    "        for node in nodes:\n",
    "            style=node.get_attribute('style')\n",
    "            count+=int(style.split('%')[0].split(':')[-1].strip())/100\n",
    "        print(count)"
   ]
  },
  {
   "cell_type": "code",
   "execution_count": null,
   "metadata": {},
   "outputs": [],
   "source": []
  },
  {
   "cell_type": "code",
   "execution_count": null,
   "metadata": {},
   "outputs": [],
   "source": []
  }
 ],
 "metadata": {
  "kernelspec": {
   "display_name": "Python 3",
   "language": "python",
   "name": "python3"
  },
  "language_info": {
   "codemirror_mode": {
    "name": "ipython",
    "version": 3
   },
   "file_extension": ".py",
   "mimetype": "text/x-python",
   "name": "python",
   "nbconvert_exporter": "python",
   "pygments_lexer": "ipython3",
   "version": "3.7.4"
  }
 },
 "nbformat": 4,
 "nbformat_minor": 2
}
